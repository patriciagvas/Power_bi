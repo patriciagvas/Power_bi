{
  "nbformat": 4,
  "nbformat_minor": 0,
  "metadata": {
    "colab": {
      "provenance": [],
      "authorship_tag": "ABX9TyNUgA2iMw3yMc6DnQadnN4Q"
    },
    "kernelspec": {
      "name": "python3",
      "display_name": "Python 3"
    },
    "language_info": {
      "name": "python"
    }
  },
  "cells": [
    {
      "cell_type": "markdown",
      "source": [
        "Este projeto tem como objetivo avaliar as vendas de cursos da Empresa fictícia Olympo, que oferece cursos na área de tecnologia. Iremos integrar o MySQL ao Power Bi para gerar um dashboard interativo. O primeiro passo do projeto consiste na criação do banco de dados da empresa no MySQL Workbench. Para isso serão criadas três tabelas, davaliacoes, dcursos, dcancelamento, dclintes, dcanalvendas, dTempo e fvendas, em que as primeiras são tabelas dimensão, e a última a tabela fato com os dados das vendas dos cursos."
      ],
      "metadata": {
        "id": "XYikDIXbrV8P"
      }
    },
    {
      "cell_type": "code",
      "execution_count": null,
      "metadata": {
        "id": "oNWV-9uJrPvP"
      },
      "outputs": [],
      "source": [
        "USE db_empresacursosolympo;\n",
        "\n",
        "-- CÓDIGOS TABELAS\n",
        "DROP TABLE fvendas;\n",
        "DROP TABLE davaliacoes;\n",
        "DROP TABLE dcancelamento;\n",
        "DROP TABLE dclientes;\n",
        "DROP TABLE dcurso;\n",
        "DROP TABLE dcanalvendas;\n",
        "DROP TABLE dTempo;\n",
        "\n",
        "CREATE TABLE dTempo (\n",
        "    ID_tempo INT PRIMARY KEY AUTO_INCREMENT,\n",
        "    Data_Compra DATE NOT NULL,\n",
        "    Ano INT NOT NULL,\n",
        "    Mes INT NOT NULL,\n",
        "    Dia INT NOT NULL,\n",
        "    Trimestre INT NOT NULL\n",
        ");\n",
        "\n",
        "\n",
        "CREATE TABLE dClientes (\n",
        "    ID_cliente INT PRIMARY KEY AUTO_INCREMENT,\n",
        "    Nome_Cliente VARCHAR(100) NOT NULL,\n",
        "    Idade INT NOT NULL,\n",
        "    Genero VARCHAR(10),\n",
        "    Localizacao VARCHAR(100) NOT NULL\n",
        ");\n",
        "\n",
        "\n",
        "CREATE TABLE dCanalVendas (\n",
        "    ID_Canal INT PRIMARY KEY AUTO_INCREMENT,\n",
        "    Nome_Canal VARCHAR(50) NOT NULL #Email, Redes Sociais (Detalhar cada uma), Telefone,  etc.\n",
        ");\n",
        "\n",
        "CREATE TABLE dCurso (\n",
        "    ID_Curso INT PRIMARY KEY AUTO_INCREMENT,\n",
        "    Nome_Curso VARCHAR(100) NOT NULL,\n",
        "    preco DECIMAL(10, 2) NOT NULL\n",
        ");\n",
        "\n",
        "CREATE TABLE dAvaliacoes (\n",
        "    ID_Avaliacao INT PRIMARY KEY AUTO_INCREMENT,\n",
        "    ID_Cliente INT NOT NULL,\n",
        "    ID_Curso INT NOT NULL,\n",
        "    Nota INT NOT NULL CHECK (Nota BETWEEN 1 AND 10),\n",
        "    Comentario TEXT,\n",
        "    Data_Avaliacao DATE NOT NULL,\n",
        "    FOREIGN KEY (ID_Cliente) REFERENCES dClientes(ID_cliente),\n",
        "    FOREIGN KEY (ID_Curso) REFERENCES dCurso(ID_Curso)\n",
        ");\n",
        "\n",
        "\n",
        "\n",
        "CREATE TABLE fVendas (\n",
        "    ID_Venda INT PRIMARY KEY AUTO_INCREMENT,\n",
        "    ID_Tempo INT,\n",
        "    ID_cliente INT,\n",
        "    ID_Canal INT,\n",
        "    ID_Curso INT,\n",
        "    Receita DECIMAL(10, 2),\n",
        "    Numero_Leads INT NOT NULL,\n",
        "    Numero_Followups INT NOT NULL,\n",
        "    Numero_Demos INT NOT NULL,\n",
        "    Numero_Matriculas INT NOT NULL,\n",
        "    Churn_Rate DECIMAL(5, 2) NOT NULL,\n",
        "    NPS INT NOT NULL,\n",
        "    FOREIGN KEY (ID_Tempo) REFERENCES dTempo(ID_Tempo),\n",
        "    FOREIGN KEY (ID_cliente) REFERENCES dClientes(ID_cliente),\n",
        "    FOREIGN KEY (ID_Canal) REFERENCES dCanalVendas(ID_Canal),\n",
        "    FOREIGN KEY (ID_Curso) REFERENCES dCurso(ID_Curso)\n",
        ");\n",
        "\n",
        "\n",
        "CREATE TABLE dCancelamento (\n",
        "    ID_Cancelamento INT PRIMARY KEY AUTO_INCREMENT,\n",
        "    ID_Tempo INT,  -- Data do cancelamento\n",
        "    ID_cliente INT, -- Cliente que cancelou\n",
        "    ID_Curso INT,   -- Curso que foi cancelado\n",
        "    Data_Cancelamento DATE NOT NULL,\n",
        "    Motivo_Cancelamento VARCHAR(255),  -- Motivo do cancelamento\n",
        "    FOREIGN KEY (ID_Tempo) REFERENCES dTempo(ID_Tempo),\n",
        "    FOREIGN KEY (ID_cliente) REFERENCES dClientes(ID_cliente),\n",
        "    FOREIGN KEY (ID_Curso) REFERENCES dCurso(ID_Curso)\n",
        ");"
      ]
    }
  ]
}